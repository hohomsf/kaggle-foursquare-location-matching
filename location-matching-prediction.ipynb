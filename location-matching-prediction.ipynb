{
 "cells": [
  {
   "cell_type": "code",
   "execution_count": 1,
   "id": "e0227554",
   "metadata": {
    "execution": {
     "iopub.execute_input": "2022-09-01T15:51:44.624884Z",
     "iopub.status.busy": "2022-09-01T15:51:44.624406Z",
     "iopub.status.idle": "2022-09-01T15:51:44.657132Z",
     "shell.execute_reply": "2022-09-01T15:51:44.655941Z"
    },
    "papermill": {
     "duration": 0.043497,
     "end_time": "2022-09-01T15:51:44.659956",
     "exception": false,
     "start_time": "2022-09-01T15:51:44.616459",
     "status": "completed"
    },
    "tags": []
   },
   "outputs": [
    {
     "data": {
      "text/plain": [
       "'../working/my_functions.py'"
      ]
     },
     "execution_count": 1,
     "metadata": {},
     "output_type": "execute_result"
    }
   ],
   "source": [
    "# my_functions contains the pre-defined custom functions to avoid defining again during modelling and predicting process\n",
    "# The module needs to be copied to the working directory so we can access itfrom shutil import copyfile\n",
    "from shutil import copyfile\n",
    "copyfile(src = \"../input/foursquare-my-data/my_functions.py\", dst = \"../working/my_functions.py\")"
   ]
  },
  {
   "cell_type": "code",
   "execution_count": 2,
   "id": "091ca289",
   "metadata": {
    "execution": {
     "iopub.execute_input": "2022-09-01T15:51:44.673252Z",
     "iopub.status.busy": "2022-09-01T15:51:44.672470Z",
     "iopub.status.idle": "2022-09-01T15:52:21.022445Z",
     "shell.execute_reply": "2022-09-01T15:52:21.021288Z"
    },
    "papermill": {
     "duration": 36.359792,
     "end_time": "2022-09-01T15:52:21.025394",
     "exception": false,
     "start_time": "2022-09-01T15:51:44.665602",
     "status": "completed"
    },
    "tags": []
   },
   "outputs": [
    {
     "name": "stdout",
     "output_type": "stream",
     "text": [
      "Collecting recordlinkage\n",
      "  Downloading recordlinkage-0.15-py3-none-any.whl (926 kB)\n",
      "     ━━━━━━━━━━━━━━━━━━━━━━━━━━━━━━━━━━━━━━━ 926.5/926.5 kB 1.2 MB/s eta 0:00:00\n",
      "Collecting jellyfish>=0.8.0\n",
      "  Downloading jellyfish-0.9.0.tar.gz (132 kB)\n",
      "     ━━━━━━━━━━━━━━━━━━━━━━━━━━━━━━━━━━━━━━━ 132.6/132.6 kB 5.8 MB/s eta 0:00:00\n",
      "  Preparing metadata (setup.py): started\n",
      "  Preparing metadata (setup.py): finished with status 'done'\n",
      "Requirement already satisfied: scikit-learn>=0.19.0 in /opt/conda/lib/python3.7/site-packages (from recordlinkage) (1.0.2)\n",
      "Requirement already satisfied: numpy>=1.13.0 in /opt/conda/lib/python3.7/site-packages (from recordlinkage) (1.21.6)\n",
      "Requirement already satisfied: pandas<2,>=1 in /opt/conda/lib/python3.7/site-packages (from recordlinkage) (1.3.5)\n",
      "Requirement already satisfied: scipy>=1 in /opt/conda/lib/python3.7/site-packages (from recordlinkage) (1.7.3)\n",
      "Requirement already satisfied: joblib in /opt/conda/lib/python3.7/site-packages (from recordlinkage) (1.0.1)\n",
      "Requirement already satisfied: python-dateutil>=2.7.3 in /opt/conda/lib/python3.7/site-packages (from pandas<2,>=1->recordlinkage) (2.8.2)\n",
      "Requirement already satisfied: pytz>=2017.3 in /opt/conda/lib/python3.7/site-packages (from pandas<2,>=1->recordlinkage) (2022.1)\n",
      "Requirement already satisfied: threadpoolctl>=2.0.0 in /opt/conda/lib/python3.7/site-packages (from scikit-learn>=0.19.0->recordlinkage) (3.1.0)\n",
      "Requirement already satisfied: six>=1.5 in /opt/conda/lib/python3.7/site-packages (from python-dateutil>=2.7.3->pandas<2,>=1->recordlinkage) (1.15.0)\n",
      "Building wheels for collected packages: jellyfish\n",
      "  Building wheel for jellyfish (setup.py): started\n",
      "  Building wheel for jellyfish (setup.py): finished with status 'done'\n",
      "  Created wheel for jellyfish: filename=jellyfish-0.9.0-cp37-cp37m-linux_x86_64.whl size=102005 sha256=7cb9a3030cb9b8fe684f2e2bf9d654e8797a1aa9bb62bef6861e8f7dc6400ef9\n",
      "  Stored in directory: /root/.cache/pip/wheels/fe/99/4e/646ce766df0d070b0ef04db27aa11543e2767fda3075aec31b\n",
      "Successfully built jellyfish\n",
      "Installing collected packages: jellyfish, recordlinkage\n",
      "Successfully installed jellyfish-0.9.0 recordlinkage-0.15\n"
     ]
    },
    {
     "name": "stderr",
     "output_type": "stream",
     "text": [
      "WARNING: Running pip as the 'root' user can result in broken permissions and conflicting behaviour with the system package manager. It is recommended to use a virtual environment instead: https://pip.pypa.io/warnings/venv\n"
     ]
    },
    {
     "name": "stdout",
     "output_type": "stream",
     "text": [
      "Collecting pykakasi\n",
      "  Downloading pykakasi-2.2.1-py3-none-any.whl (2.4 MB)\n",
      "     ━━━━━━━━━━━━━━━━━━━━━━━━━━━━━━━━━━━━━━━━ 2.4/2.4 MB 2.0 MB/s eta 0:00:00\n",
      "Collecting jaconv\n",
      "  Downloading jaconv-0.3.tar.gz (15 kB)\n",
      "  Preparing metadata (setup.py): started\n",
      "  Preparing metadata (setup.py): finished with status 'done'\n",
      "Requirement already satisfied: importlib-metadata in /opt/conda/lib/python3.7/site-packages (from pykakasi) (4.12.0)\n",
      "Collecting deprecated\n",
      "  Downloading Deprecated-1.2.13-py2.py3-none-any.whl (9.6 kB)\n",
      "Requirement already satisfied: wrapt<2,>=1.10 in /opt/conda/lib/python3.7/site-packages (from deprecated->pykakasi) (1.12.1)\n",
      "Requirement already satisfied: zipp>=0.5 in /opt/conda/lib/python3.7/site-packages (from importlib-metadata->pykakasi) (3.8.0)\n",
      "Requirement already satisfied: typing-extensions>=3.6.4 in /opt/conda/lib/python3.7/site-packages (from importlib-metadata->pykakasi) (4.3.0)\n",
      "Building wheels for collected packages: jaconv\n",
      "  Building wheel for jaconv (setup.py): started\n",
      "  Building wheel for jaconv (setup.py): finished with status 'done'\n",
      "  Created wheel for jaconv: filename=jaconv-0.3-py3-none-any.whl size=15564 sha256=767247fddc57032c6d89c7d754cc6c07f791d519654f208b2fd1fb1fed50b31f\n",
      "  Stored in directory: /root/.cache/pip/wheels/8f/4f/c2/a2a3b14d0e94f855f4aa8887bf0267bee9ecfb8e62a9ee2d92\n",
      "Successfully built jaconv\n",
      "Installing collected packages: jaconv, deprecated, pykakasi\n",
      "Successfully installed deprecated-1.2.13 jaconv-0.3 pykakasi-2.2.1\n"
     ]
    },
    {
     "name": "stderr",
     "output_type": "stream",
     "text": [
      "WARNING: Running pip as the 'root' user can result in broken permissions and conflicting behaviour with the system package manager. It is recommended to use a virtual environment instead: https://pip.pypa.io/warnings/venv\n"
     ]
    }
   ],
   "source": [
    "import pandas as pd\n",
    "import networkx as nx\n",
    "import joblib\n",
    "from my_functions import *"
   ]
  },
  {
   "cell_type": "markdown",
   "id": "d9a21895",
   "metadata": {
    "papermill": {
     "duration": 0.006136,
     "end_time": "2022-09-01T15:52:21.038312",
     "exception": false,
     "start_time": "2022-09-01T15:52:21.032176",
     "status": "completed"
    },
    "tags": []
   },
   "source": [
    "# Load test dataset"
   ]
  },
  {
   "cell_type": "code",
   "execution_count": 3,
   "id": "fafd8a86",
   "metadata": {
    "execution": {
     "iopub.execute_input": "2022-09-01T15:52:21.052891Z",
     "iopub.status.busy": "2022-09-01T15:52:21.052506Z",
     "iopub.status.idle": "2022-09-01T15:52:21.079045Z",
     "shell.execute_reply": "2022-09-01T15:52:21.078158Z"
    },
    "papermill": {
     "duration": 0.03679,
     "end_time": "2022-09-01T15:52:21.081465",
     "exception": false,
     "start_time": "2022-09-01T15:52:21.044675",
     "status": "completed"
    },
    "tags": []
   },
   "outputs": [],
   "source": [
    "test_df = pd.read_csv('../input/foursquare-location-matching/test.csv', index_col='id')"
   ]
  },
  {
   "cell_type": "markdown",
   "id": "7aadbb19",
   "metadata": {
    "papermill": {
     "duration": 0.006076,
     "end_time": "2022-09-01T15:52:21.094304",
     "exception": false,
     "start_time": "2022-09-01T15:52:21.088228",
     "status": "completed"
    },
    "tags": []
   },
   "source": [
    "# Load pre-trained model"
   ]
  },
  {
   "cell_type": "code",
   "execution_count": 4,
   "id": "c61e36aa",
   "metadata": {
    "execution": {
     "iopub.execute_input": "2022-09-01T15:52:21.109188Z",
     "iopub.status.busy": "2022-09-01T15:52:21.108421Z",
     "iopub.status.idle": "2022-09-01T15:52:22.524336Z",
     "shell.execute_reply": "2022-09-01T15:52:22.523161Z"
    },
    "papermill": {
     "duration": 1.426616,
     "end_time": "2022-09-01T15:52:22.527284",
     "exception": false,
     "start_time": "2022-09-01T15:52:21.100668",
     "status": "completed"
    },
    "tags": []
   },
   "outputs": [],
   "source": [
    "model = joblib.load('../input/foursquare-my-data/saved_model.pkl')"
   ]
  },
  {
   "cell_type": "markdown",
   "id": "feafca78",
   "metadata": {
    "papermill": {
     "duration": 0.006723,
     "end_time": "2022-09-01T15:52:22.540464",
     "exception": false,
     "start_time": "2022-09-01T15:52:22.533741",
     "status": "completed"
    },
    "tags": []
   },
   "source": [
    "# Preprocess and make predictions"
   ]
  },
  {
   "cell_type": "code",
   "execution_count": 5,
   "id": "5db5c3b9",
   "metadata": {
    "execution": {
     "iopub.execute_input": "2022-09-01T15:52:22.554870Z",
     "iopub.status.busy": "2022-09-01T15:52:22.554438Z",
     "iopub.status.idle": "2022-09-01T15:52:22.638780Z",
     "shell.execute_reply": "2022-09-01T15:52:22.637655Z"
    },
    "papermill": {
     "duration": 0.094587,
     "end_time": "2022-09-01T15:52:22.641432",
     "exception": false,
     "start_time": "2022-09-01T15:52:22.546845",
     "status": "completed"
    },
    "tags": []
   },
   "outputs": [],
   "source": [
    "# This process is similar to the one during model building\n",
    "text_preprocess(test_df)\n",
    "test_score_dfs = get_score(test_df)\n",
    "test_score = pd.concat(test_score_dfs)"
   ]
  },
  {
   "cell_type": "code",
   "execution_count": 6,
   "id": "0ff3b28c",
   "metadata": {
    "execution": {
     "iopub.execute_input": "2022-09-01T15:52:22.657240Z",
     "iopub.status.busy": "2022-09-01T15:52:22.656293Z",
     "iopub.status.idle": "2022-09-01T15:52:22.673500Z",
     "shell.execute_reply": "2022-09-01T15:52:22.672591Z"
    },
    "papermill": {
     "duration": 0.027674,
     "end_time": "2022-09-01T15:52:22.676328",
     "exception": false,
     "start_time": "2022-09-01T15:52:22.648654",
     "status": "completed"
    },
    "tags": []
   },
   "outputs": [],
   "source": [
    "# Predict on the official testing dataset and add predictions as a new column\n",
    "feat_cols = ['name_score', 'latitude_score', 'longitude_score', 'city_score', \n",
    "             'address_score', 'country_score', 'categories_score']\n",
    "\n",
    "X = test_score[feat_cols].values\n",
    "final_pred = model.predict(X)\n",
    "test_score['pred'] = final_pred"
   ]
  },
  {
   "cell_type": "markdown",
   "id": "a216d586",
   "metadata": {
    "papermill": {
     "duration": 0.006791,
     "end_time": "2022-09-01T15:52:22.691052",
     "exception": false,
     "start_time": "2022-09-01T15:52:22.684261",
     "status": "completed"
    },
    "tags": []
   },
   "source": [
    "# Generate proper format for submission"
   ]
  },
  {
   "cell_type": "code",
   "execution_count": 7,
   "id": "61c5c0dc",
   "metadata": {
    "execution": {
     "iopub.execute_input": "2022-09-01T15:52:22.705830Z",
     "iopub.status.busy": "2022-09-01T15:52:22.705416Z",
     "iopub.status.idle": "2022-09-01T15:52:22.713148Z",
     "shell.execute_reply": "2022-09-01T15:52:22.711835Z"
    },
    "papermill": {
     "duration": 0.018075,
     "end_time": "2022-09-01T15:52:22.715799",
     "exception": false,
     "start_time": "2022-09-01T15:52:22.697724",
     "status": "completed"
    },
    "tags": []
   },
   "outputs": [],
   "source": [
    "# Create new DataFrame that contains the IDs first\n",
    "submission = pd.read_csv('../input/foursquare-location-matching/test.csv', usecols=['id'])"
   ]
  },
  {
   "cell_type": "code",
   "execution_count": 8,
   "id": "cde53e59",
   "metadata": {
    "execution": {
     "iopub.execute_input": "2022-09-01T15:52:22.730842Z",
     "iopub.status.busy": "2022-09-01T15:52:22.729997Z",
     "iopub.status.idle": "2022-09-01T15:52:22.736831Z",
     "shell.execute_reply": "2022-09-01T15:52:22.735773Z"
    },
    "papermill": {
     "duration": 0.0174,
     "end_time": "2022-09-01T15:52:22.739695",
     "exception": false,
     "start_time": "2022-09-01T15:52:22.722295",
     "status": "completed"
    },
    "tags": []
   },
   "outputs": [],
   "source": [
    "# Keep only IDs of the matching pairs\n",
    "test_score = test_score[test_score['pred'] == 1][['id_1', 'id_2']]"
   ]
  },
  {
   "cell_type": "code",
   "execution_count": 9,
   "id": "b219f890",
   "metadata": {
    "execution": {
     "iopub.execute_input": "2022-09-01T15:52:22.755040Z",
     "iopub.status.busy": "2022-09-01T15:52:22.754642Z",
     "iopub.status.idle": "2022-09-01T15:52:22.764154Z",
     "shell.execute_reply": "2022-09-01T15:52:22.762917Z"
    },
    "papermill": {
     "duration": 0.020514,
     "end_time": "2022-09-01T15:52:22.766683",
     "exception": false,
     "start_time": "2022-09-01T15:52:22.746169",
     "status": "completed"
    },
    "tags": []
   },
   "outputs": [],
   "source": [
    "# Create a swapped version of test_score\n",
    "test_score_swapped = pd.DataFrame()\n",
    "test_score_swapped['id_1'] = test_score['id_2']\n",
    "test_score_swapped['id_2'] = test_score['id_1']"
   ]
  },
  {
   "cell_type": "code",
   "execution_count": 10,
   "id": "9ba50262",
   "metadata": {
    "execution": {
     "iopub.execute_input": "2022-09-01T15:52:22.780937Z",
     "iopub.status.busy": "2022-09-01T15:52:22.780564Z",
     "iopub.status.idle": "2022-09-01T15:52:22.796967Z",
     "shell.execute_reply": "2022-09-01T15:52:22.795833Z"
    },
    "papermill": {
     "duration": 0.026463,
     "end_time": "2022-09-01T15:52:22.799459",
     "exception": false,
     "start_time": "2022-09-01T15:52:22.772996",
     "status": "completed"
    },
    "tags": []
   },
   "outputs": [
    {
     "data": {
      "text/html": [
       "<div>\n",
       "<style scoped>\n",
       "    .dataframe tbody tr th:only-of-type {\n",
       "        vertical-align: middle;\n",
       "    }\n",
       "\n",
       "    .dataframe tbody tr th {\n",
       "        vertical-align: top;\n",
       "    }\n",
       "\n",
       "    .dataframe thead th {\n",
       "        text-align: right;\n",
       "    }\n",
       "</style>\n",
       "<table border=\"1\" class=\"dataframe\">\n",
       "  <thead>\n",
       "    <tr style=\"text-align: right;\">\n",
       "      <th></th>\n",
       "      <th>id_1</th>\n",
       "      <th>id_2</th>\n",
       "    </tr>\n",
       "  </thead>\n",
       "  <tbody>\n",
       "    <tr>\n",
       "      <th>1</th>\n",
       "      <td>E_0283d9f61e569d</td>\n",
       "      <td>E_001b6bad66eb98</td>\n",
       "    </tr>\n",
       "    <tr>\n",
       "      <th>1</th>\n",
       "      <td>E_001b6bad66eb98</td>\n",
       "      <td>E_0283d9f61e569d</td>\n",
       "    </tr>\n",
       "  </tbody>\n",
       "</table>\n",
       "</div>"
      ],
      "text/plain": [
       "               id_1              id_2\n",
       "1  E_0283d9f61e569d  E_001b6bad66eb98\n",
       "1  E_001b6bad66eb98  E_0283d9f61e569d"
      ]
     },
     "execution_count": 10,
     "metadata": {},
     "output_type": "execute_result"
    }
   ],
   "source": [
    "# Concatenate test_score and test_score_swapped so we will not miss any pairs\n",
    "test_score = pd.concat([test_score, test_score_swapped])\n",
    "test_score"
   ]
  },
  {
   "cell_type": "code",
   "execution_count": 11,
   "id": "d72d2592",
   "metadata": {
    "execution": {
     "iopub.execute_input": "2022-09-01T15:52:22.814744Z",
     "iopub.status.busy": "2022-09-01T15:52:22.813550Z",
     "iopub.status.idle": "2022-09-01T15:52:22.823850Z",
     "shell.execute_reply": "2022-09-01T15:52:22.822596Z"
    },
    "papermill": {
     "duration": 0.020898,
     "end_time": "2022-09-01T15:52:22.826748",
     "exception": false,
     "start_time": "2022-09-01T15:52:22.805850",
     "status": "completed"
    },
    "tags": []
   },
   "outputs": [],
   "source": [
    "# Get the groups of entries predicted as pointing to same location \n",
    "grouped = test_score.groupby('id_1')['id_2'].apply(list)\n",
    "grouped = grouped.apply(' '.join)\n",
    "matches = grouped.index + ' ' + grouped\n",
    "matches = matches.str.split(' ')\n",
    "matches = matches.tolist()\n",
    "\n",
    "G = nx.Graph()\n",
    "for match in matches:\n",
    "    nx.add_path(G, match)\n",
    "    \n",
    "match_groups = list(nx.connected_components(G))"
   ]
  },
  {
   "cell_type": "code",
   "execution_count": 12,
   "id": "bebb6844",
   "metadata": {
    "execution": {
     "iopub.execute_input": "2022-09-01T15:52:22.842338Z",
     "iopub.status.busy": "2022-09-01T15:52:22.841187Z",
     "iopub.status.idle": "2022-09-01T15:52:22.849703Z",
     "shell.execute_reply": "2022-09-01T15:52:22.848527Z"
    },
    "papermill": {
     "duration": 0.018914,
     "end_time": "2022-09-01T15:52:22.852352",
     "exception": false,
     "start_time": "2022-09-01T15:52:22.833438",
     "status": "completed"
    },
    "tags": []
   },
   "outputs": [],
   "source": [
    "# Separate duplicated and non-duplicated entities so we will go through less loops in the next step\n",
    "duplicates = test_score['id_1'].tolist()\n",
    "submission['duplicated'] = (submission['id'].isin(duplicates)).astype('int64')\n",
    "\n",
    "single = submission[submission['duplicated'] == 0]\n",
    "multiple = submission[submission['duplicated'] == 1]"
   ]
  },
  {
   "cell_type": "code",
   "execution_count": 13,
   "id": "1bf77729",
   "metadata": {
    "execution": {
     "iopub.execute_input": "2022-09-01T15:52:22.867558Z",
     "iopub.status.busy": "2022-09-01T15:52:22.867103Z",
     "iopub.status.idle": "2022-09-01T15:52:22.880870Z",
     "shell.execute_reply": "2022-09-01T15:52:22.879771Z"
    },
    "papermill": {
     "duration": 0.023721,
     "end_time": "2022-09-01T15:52:22.883097",
     "exception": false,
     "start_time": "2022-09-01T15:52:22.859376",
     "status": "completed"
    },
    "tags": []
   },
   "outputs": [
    {
     "name": "stderr",
     "output_type": "stream",
     "text": [
      "/opt/conda/lib/python3.7/site-packages/ipykernel_launcher.py:2: SettingWithCopyWarning: \n",
      "A value is trying to be set on a copy of a slice from a DataFrame.\n",
      "Try using .loc[row_indexer,col_indexer] = value instead\n",
      "\n",
      "See the caveats in the documentation: https://pandas.pydata.org/pandas-docs/stable/user_guide/indexing.html#returning-a-view-versus-a-copy\n",
      "  \n"
     ]
    },
    {
     "data": {
      "text/html": [
       "<div>\n",
       "<style scoped>\n",
       "    .dataframe tbody tr th:only-of-type {\n",
       "        vertical-align: middle;\n",
       "    }\n",
       "\n",
       "    .dataframe tbody tr th {\n",
       "        vertical-align: top;\n",
       "    }\n",
       "\n",
       "    .dataframe thead th {\n",
       "        text-align: right;\n",
       "    }\n",
       "</style>\n",
       "<table border=\"1\" class=\"dataframe\">\n",
       "  <thead>\n",
       "    <tr style=\"text-align: right;\">\n",
       "      <th></th>\n",
       "      <th>id</th>\n",
       "      <th>duplicated</th>\n",
       "      <th>matches</th>\n",
       "    </tr>\n",
       "  </thead>\n",
       "  <tbody>\n",
       "    <tr>\n",
       "      <th>0</th>\n",
       "      <td>E_00001118ad0191</td>\n",
       "      <td>0</td>\n",
       "      <td>E_00001118ad0191</td>\n",
       "    </tr>\n",
       "    <tr>\n",
       "      <th>1</th>\n",
       "      <td>E_000020eb6fed40</td>\n",
       "      <td>0</td>\n",
       "      <td>E_000020eb6fed40</td>\n",
       "    </tr>\n",
       "    <tr>\n",
       "      <th>2</th>\n",
       "      <td>E_00002f98667edf</td>\n",
       "      <td>0</td>\n",
       "      <td>E_00002f98667edf</td>\n",
       "    </tr>\n",
       "  </tbody>\n",
       "</table>\n",
       "</div>"
      ],
      "text/plain": [
       "                 id  duplicated           matches\n",
       "0  E_00001118ad0191           0  E_00001118ad0191\n",
       "1  E_000020eb6fed40           0  E_000020eb6fed40\n",
       "2  E_00002f98667edf           0  E_00002f98667edf"
      ]
     },
     "execution_count": 13,
     "metadata": {},
     "output_type": "execute_result"
    }
   ],
   "source": [
    "# No further processing on non-duplicated entities\n",
    "single['matches'] = single['id']\n",
    "single"
   ]
  },
  {
   "cell_type": "code",
   "execution_count": 14,
   "id": "a2772994",
   "metadata": {
    "execution": {
     "iopub.execute_input": "2022-09-01T15:52:22.898418Z",
     "iopub.status.busy": "2022-09-01T15:52:22.897990Z",
     "iopub.status.idle": "2022-09-01T15:52:22.913534Z",
     "shell.execute_reply": "2022-09-01T15:52:22.911815Z"
    },
    "papermill": {
     "duration": 0.026734,
     "end_time": "2022-09-01T15:52:22.916553",
     "exception": false,
     "start_time": "2022-09-01T15:52:22.889819",
     "status": "completed"
    },
    "tags": []
   },
   "outputs": [
    {
     "name": "stderr",
     "output_type": "stream",
     "text": [
      "/opt/conda/lib/python3.7/site-packages/ipykernel_launcher.py:6: SettingWithCopyWarning: \n",
      "A value is trying to be set on a copy of a slice from a DataFrame.\n",
      "Try using .loc[row_indexer,col_indexer] = value instead\n",
      "\n",
      "See the caveats in the documentation: https://pandas.pydata.org/pandas-docs/stable/user_guide/indexing.html#returning-a-view-versus-a-copy\n",
      "  \n",
      "/opt/conda/lib/python3.7/site-packages/ipykernel_launcher.py:7: SettingWithCopyWarning: \n",
      "A value is trying to be set on a copy of a slice from a DataFrame.\n",
      "Try using .loc[row_indexer,col_indexer] = value instead\n",
      "\n",
      "See the caveats in the documentation: https://pandas.pydata.org/pandas-docs/stable/user_guide/indexing.html#returning-a-view-versus-a-copy\n",
      "  import sys\n"
     ]
    },
    {
     "data": {
      "text/html": [
       "<div>\n",
       "<style scoped>\n",
       "    .dataframe tbody tr th:only-of-type {\n",
       "        vertical-align: middle;\n",
       "    }\n",
       "\n",
       "    .dataframe tbody tr th {\n",
       "        vertical-align: top;\n",
       "    }\n",
       "\n",
       "    .dataframe thead th {\n",
       "        text-align: right;\n",
       "    }\n",
       "</style>\n",
       "<table border=\"1\" class=\"dataframe\">\n",
       "  <thead>\n",
       "    <tr style=\"text-align: right;\">\n",
       "      <th></th>\n",
       "      <th>id</th>\n",
       "      <th>duplicated</th>\n",
       "      <th>matches</th>\n",
       "    </tr>\n",
       "  </thead>\n",
       "  <tbody>\n",
       "    <tr>\n",
       "      <th>3</th>\n",
       "      <td>E_001b6bad66eb98</td>\n",
       "      <td>1</td>\n",
       "      <td>E_0283d9f61e569d E_001b6bad66eb98</td>\n",
       "    </tr>\n",
       "    <tr>\n",
       "      <th>4</th>\n",
       "      <td>E_0283d9f61e569d</td>\n",
       "      <td>1</td>\n",
       "      <td>E_0283d9f61e569d E_001b6bad66eb98</td>\n",
       "    </tr>\n",
       "  </tbody>\n",
       "</table>\n",
       "</div>"
      ],
      "text/plain": [
       "                 id  duplicated                            matches\n",
       "3  E_001b6bad66eb98           1  E_0283d9f61e569d E_001b6bad66eb98\n",
       "4  E_0283d9f61e569d           1  E_0283d9f61e569d E_001b6bad66eb98"
      ]
     },
     "execution_count": 14,
     "metadata": {},
     "output_type": "execute_result"
    }
   ],
   "source": [
    "# Find group of POIs the place entries belong to and put all the matching entries together\n",
    "rs = []\n",
    "for s in multiple['id']:\n",
    "    rs.append(get_group(s, match_groups))\n",
    "\n",
    "multiple['matches'] = rs\n",
    "multiple['matches'] = multiple['matches'].apply(' '.join)\n",
    "multiple"
   ]
  },
  {
   "cell_type": "code",
   "execution_count": 15,
   "id": "36eaf133",
   "metadata": {
    "execution": {
     "iopub.execute_input": "2022-09-01T15:52:22.932606Z",
     "iopub.status.busy": "2022-09-01T15:52:22.932201Z",
     "iopub.status.idle": "2022-09-01T15:52:22.945541Z",
     "shell.execute_reply": "2022-09-01T15:52:22.944630Z"
    },
    "papermill": {
     "duration": 0.023949,
     "end_time": "2022-09-01T15:52:22.947709",
     "exception": false,
     "start_time": "2022-09-01T15:52:22.923760",
     "status": "completed"
    },
    "tags": []
   },
   "outputs": [
    {
     "data": {
      "text/html": [
       "<div>\n",
       "<style scoped>\n",
       "    .dataframe tbody tr th:only-of-type {\n",
       "        vertical-align: middle;\n",
       "    }\n",
       "\n",
       "    .dataframe tbody tr th {\n",
       "        vertical-align: top;\n",
       "    }\n",
       "\n",
       "    .dataframe thead th {\n",
       "        text-align: right;\n",
       "    }\n",
       "</style>\n",
       "<table border=\"1\" class=\"dataframe\">\n",
       "  <thead>\n",
       "    <tr style=\"text-align: right;\">\n",
       "      <th></th>\n",
       "      <th>id</th>\n",
       "      <th>matches</th>\n",
       "    </tr>\n",
       "  </thead>\n",
       "  <tbody>\n",
       "    <tr>\n",
       "      <th>0</th>\n",
       "      <td>E_00001118ad0191</td>\n",
       "      <td>E_00001118ad0191</td>\n",
       "    </tr>\n",
       "    <tr>\n",
       "      <th>1</th>\n",
       "      <td>E_000020eb6fed40</td>\n",
       "      <td>E_000020eb6fed40</td>\n",
       "    </tr>\n",
       "    <tr>\n",
       "      <th>2</th>\n",
       "      <td>E_00002f98667edf</td>\n",
       "      <td>E_00002f98667edf</td>\n",
       "    </tr>\n",
       "    <tr>\n",
       "      <th>3</th>\n",
       "      <td>E_001b6bad66eb98</td>\n",
       "      <td>E_0283d9f61e569d E_001b6bad66eb98</td>\n",
       "    </tr>\n",
       "    <tr>\n",
       "      <th>4</th>\n",
       "      <td>E_0283d9f61e569d</td>\n",
       "      <td>E_0283d9f61e569d E_001b6bad66eb98</td>\n",
       "    </tr>\n",
       "  </tbody>\n",
       "</table>\n",
       "</div>"
      ],
      "text/plain": [
       "                 id                            matches\n",
       "0  E_00001118ad0191                   E_00001118ad0191\n",
       "1  E_000020eb6fed40                   E_000020eb6fed40\n",
       "2  E_00002f98667edf                   E_00002f98667edf\n",
       "3  E_001b6bad66eb98  E_0283d9f61e569d E_001b6bad66eb98\n",
       "4  E_0283d9f61e569d  E_0283d9f61e569d E_001b6bad66eb98"
      ]
     },
     "execution_count": 15,
     "metadata": {},
     "output_type": "execute_result"
    }
   ],
   "source": [
    "# Get the final output for submission\n",
    "submission = pd.concat([single, multiple])\n",
    "submission = submission.drop('duplicated', axis=1)\n",
    "submission"
   ]
  },
  {
   "cell_type": "code",
   "execution_count": 16,
   "id": "1f6149ea",
   "metadata": {
    "execution": {
     "iopub.execute_input": "2022-09-01T15:52:22.964371Z",
     "iopub.status.busy": "2022-09-01T15:52:22.963951Z",
     "iopub.status.idle": "2022-09-01T15:52:22.971255Z",
     "shell.execute_reply": "2022-09-01T15:52:22.970331Z"
    },
    "papermill": {
     "duration": 0.018752,
     "end_time": "2022-09-01T15:52:22.973763",
     "exception": false,
     "start_time": "2022-09-01T15:52:22.955011",
     "status": "completed"
    },
    "tags": []
   },
   "outputs": [],
   "source": [
    "submission.to_csv('submission.csv', index=False)"
   ]
  }
 ],
 "metadata": {
  "kernelspec": {
   "display_name": "Python 3",
   "language": "python",
   "name": "python3"
  },
  "language_info": {
   "codemirror_mode": {
    "name": "ipython",
    "version": 3
   },
   "file_extension": ".py",
   "mimetype": "text/x-python",
   "name": "python",
   "nbconvert_exporter": "python",
   "pygments_lexer": "ipython3",
   "version": "3.7.12"
  },
  "papermill": {
   "default_parameters": {},
   "duration": 48.704347,
   "end_time": "2022-09-01T15:52:23.804385",
   "environment_variables": {},
   "exception": null,
   "input_path": "__notebook__.ipynb",
   "output_path": "__notebook__.ipynb",
   "parameters": {},
   "start_time": "2022-09-01T15:51:35.100038",
   "version": "2.3.4"
  }
 },
 "nbformat": 4,
 "nbformat_minor": 5
}
